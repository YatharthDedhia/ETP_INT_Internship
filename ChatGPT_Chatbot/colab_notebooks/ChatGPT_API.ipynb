{
  "cells": [
    {
      "cell_type": "markdown",
      "metadata": {
        "id": "X1q2uS1Ee_pg"
      },
      "source": [
        "# Install necessary dependencies"
      ]
    },
    {
      "cell_type": "code",
      "execution_count": null,
      "metadata": {
        "cellView": "form",
        "colab": {
          "base_uri": "https://localhost:8080/"
        },
        "id": "LtGd_itkeEcp",
        "outputId": "cdee2b2b-9383-4400-d89e-9f86319d57e0"
      },
      "outputs": [
        {
          "name": "stdout",
          "output_type": "stream",
          "text": [
            "Requirement already satisfied: openai in /usr/local/lib/python3.10/dist-packages (0.27.8)\n",
            "Requirement already satisfied: requests>=2.20 in /usr/local/lib/python3.10/dist-packages (from openai) (2.27.1)\n",
            "Requirement already satisfied: tqdm in /usr/local/lib/python3.10/dist-packages (from openai) (4.65.0)\n",
            "Requirement already satisfied: aiohttp in /usr/local/lib/python3.10/dist-packages (from openai) (3.8.5)\n",
            "Requirement already satisfied: urllib3<1.27,>=1.21.1 in /usr/local/lib/python3.10/dist-packages (from requests>=2.20->openai) (1.26.16)\n",
            "Requirement already satisfied: certifi>=2017.4.17 in /usr/local/lib/python3.10/dist-packages (from requests>=2.20->openai) (2023.7.22)\n",
            "Requirement already satisfied: charset-normalizer~=2.0.0 in /usr/local/lib/python3.10/dist-packages (from requests>=2.20->openai) (2.0.12)\n",
            "Requirement already satisfied: idna<4,>=2.5 in /usr/local/lib/python3.10/dist-packages (from requests>=2.20->openai) (3.4)\n",
            "Requirement already satisfied: attrs>=17.3.0 in /usr/local/lib/python3.10/dist-packages (from aiohttp->openai) (23.1.0)\n",
            "Requirement already satisfied: multidict<7.0,>=4.5 in /usr/local/lib/python3.10/dist-packages (from aiohttp->openai) (6.0.4)\n",
            "Requirement already satisfied: async-timeout<5.0,>=4.0.0a3 in /usr/local/lib/python3.10/dist-packages (from aiohttp->openai) (4.0.2)\n",
            "Requirement already satisfied: yarl<2.0,>=1.0 in /usr/local/lib/python3.10/dist-packages (from aiohttp->openai) (1.9.2)\n",
            "Requirement already satisfied: frozenlist>=1.1.1 in /usr/local/lib/python3.10/dist-packages (from aiohttp->openai) (1.4.0)\n",
            "Requirement already satisfied: aiosignal>=1.1.2 in /usr/local/lib/python3.10/dist-packages (from aiohttp->openai) (1.3.1)\n"
          ]
        }
      ],
      "source": [
        "# @title\n",
        "!pip3 install openai"
      ]
    },
    {
      "cell_type": "markdown",
      "metadata": {
        "id": "nyZ1cnLpOFhd"
      },
      "source": [
        "## Imports and Initialisation"
      ]
    },
    {
      "cell_type": "code",
      "execution_count": null,
      "metadata": {
        "cellView": "form",
        "id": "LrP8tj1EdmHh"
      },
      "outputs": [],
      "source": [
        "# @title\n",
        "import openai\n",
        "import json\n",
        "\n",
        "\n",
        "dotenv_path = \"../../.env\"\n",
        "load_dotenv(dotenv_path)\n",
        "# Set up your OpenAI API credentials\n",
        "openai.api_key = os.environ.get(\"API_KEY\")"
      ]
    },
    {
      "cell_type": "markdown",
      "metadata": {
        "id": "stK_2o_cKY1c"
      },
      "source": [
        "## Dummy Order Data"
      ]
    },
    {
      "cell_type": "code",
      "execution_count": null,
      "metadata": {
        "cellView": "form",
        "id": "CVRs67OcKXfj"
      },
      "outputs": [],
      "source": [
        "# @title\n",
        "# Define the customer order data\n",
        "json_data = '''\n",
        " [\n",
        "  {\n",
        "    \"Order ID\": 1,\n",
        "    \"Customer Name\": \"John Smith\",\n",
        "    \"Customer Email\": \"john@example.com\",\n",
        "    \"Order Date\": \"2023-06-15\",\n",
        "    \"Total Amount\": \"$150\",\n",
        "    \"Order Status\": \"Delivered\"\n",
        "  },\n",
        "  {\n",
        "    \"Order ID\": 2,\n",
        "    \"Customer Name\": \"Sarah Johnson\",\n",
        "    \"Customer Email\": \"sarah@example.com\",\n",
        "    \"Order Date\": \"2023-06-16\",\n",
        "    \"Total Amount\": \"$75\",\n",
        "    \"Order Status\": \"In Progress\"\n",
        "  },\n",
        "  {\n",
        "    \"Order ID\": 3,\n",
        "    \"Customer Name\": \"Michael Brown\",\n",
        "    \"Customer Email\": \"michael@example.com\",\n",
        "    \"Order Date\": \"2023-06-17\",\n",
        "    \"Total Amount\": \"$200\",\n",
        "    \"Order Status\": \"Delivered\"\n",
        "  },\n",
        "  {\n",
        "    \"Order ID\": 4,\n",
        "    \"Customer Name\": \"Emma Davis\",\n",
        "    \"Customer Email\": \"emma@example.com\",\n",
        "    \"Order Date\": \"2023-06-18\",\n",
        "    \"Total Amount\": \"$120\",\n",
        "    \"Order Status\": \"Shipped\"\n",
        "  },\n",
        "  {\n",
        "    \"Order ID\": 5,\n",
        "    \"Customer Name\": \"David Wilson\",\n",
        "    \"Customer Email\": \"david@example.com\",\n",
        "    \"Order Date\": \"2023-06-19\",\n",
        "    \"Total Amount\": \"$90\",\n",
        "    \"Order Status\": \"Delivered\"\n",
        "  },\n",
        "  {\n",
        "    \"Order ID\": 6,\n",
        "    \"Customer Name\": \"Emily Lee\",\n",
        "    \"Customer Email\": \"emily@example.com\",\n",
        "    \"Order Date\": \"2023-06-20\",\n",
        "    \"Total Amount\": \"$50\",\n",
        "    \"Order Status\": \"Cancelled\"\n",
        "  },\n",
        "  {\n",
        "    \"Order ID\": 7,\n",
        "    \"Customer Name\": \"Andrew Clark\",\n",
        "    \"Customer Email\": \"andrew@example.com\",\n",
        "    \"Order Date\": \"2023-06-21\",\n",
        "    \"Total Amount\": \"$180\",\n",
        "    \"Order Status\": \"Delivered\"\n",
        "  },\n",
        "  {\n",
        "    \"Order ID\": 8,\n",
        "    \"Customer Name\": \"Olivia Hall\",\n",
        "    \"Customer Email\": \"olivia@example.com\",\n",
        "    \"Order Date\": \"2023-06-22\",\n",
        "    \"Total Amount\": \"$100\",\n",
        "    \"Order Status\": \"Shipped\"\n",
        "  },\n",
        "  {\n",
        "    \"Order ID\": 9,\n",
        "    \"Customer Name\": \"James Taylor\",\n",
        "    \"Customer Email\": \"james@example.com\",\n",
        "    \"Order Date\": \"2023-06-23\",\n",
        "    \"Total Amount\": \"$70\",\n",
        "    \"Order Status\": \"In Progress\"\n",
        "  },\n",
        "  {\n",
        "    \"Order ID\": 10,\n",
        "    \"Customer Name\": \"Sophia Moore\",\n",
        "    \"Customer Email\": \"sophia@example.com\",\n",
        "    \"Order Date\": \"2023-06-24\",\n",
        "    \"Total Amount\": \"$130\",\n",
        "    \"Order Status\": \"Delivered\"\n",
        "  }\n",
        "]\n",
        "'''\n",
        "orders = json.loads(json_data)"
      ]
    },
    {
      "cell_type": "markdown",
      "metadata": {
        "id": "G2hZi8rGPz4T"
      },
      "source": [
        "## Helping Functions"
      ]
    },
    {
      "cell_type": "markdown",
      "metadata": {
        "id": "-Gnes0MAKyoS"
      },
      "source": [
        "Convert Json data to sentences for easier understanding for ChatGPT"
      ]
    },
    {
      "cell_type": "code",
      "execution_count": null,
      "metadata": {
        "cellView": "form",
        "id": "QVaTlC48ONqB"
      },
      "outputs": [],
      "source": [
        "# @title\n",
        "def json_to_sent(orders):\n",
        "  product_details = []\n",
        "  for order in orders:\n",
        "      order_id = order[\"Order ID\"]\n",
        "      customer_name = order[\"Customer Name\"]\n",
        "      customer_email = order[\"Customer Email\"]\n",
        "      order_date = order[\"Order Date\"]\n",
        "      total_amount = order[\"Total Amount\"]\n",
        "      order_status = order[\"Order Status\"]\n",
        "\n",
        "      # Convert product details list to a string\n",
        "      product_details.append(f\"Order ID: {order_id}, Customer: {customer_name}, Email: {customer_email}, Date: {order_date}, Amount: {total_amount}, Status: {order_status}\")\n",
        "      product_details_string = '\\n'.join(product_details)\n",
        "\n",
        "  prompt = f\"\"\"\n",
        "  I am providing you with Data for orders placed between triple backticks delimiter.\n",
        "  ```\n",
        "  {product_details_string}\n",
        "  ```\n",
        "  Answer Questions from this data.\n",
        "  \"\"\"\n",
        "  return prompt\n"
      ]
    },
    {
      "cell_type": "markdown",
      "metadata": {
        "id": "MhwTi4NEK3gl"
      },
      "source": [
        "Call ChatGPT API"
      ]
    },
    {
      "cell_type": "code",
      "execution_count": null,
      "metadata": {
        "cellView": "form",
        "id": "DFESaBsrPBiF"
      },
      "outputs": [],
      "source": [
        "# @title\n",
        "def gpt(data,prompt):\n",
        "  response = openai.ChatCompletion.create(\n",
        "    model=\"gpt-3.5-turbo-16k\",\n",
        "    messages=[\n",
        "        {\"role\": \"system\", \"content\": \"You are a customer order data assistant.\"},\n",
        "        {\"role\": \"assistant\", \"content\": data},\n",
        "        {\"role\": \"user\", \"content\": prompt}\n",
        "    ]\n",
        "  )\n",
        "\n",
        "  # Get the model's response\n",
        "  response_text = response['choices'][0]['message']['content']\n",
        "  return response_text"
      ]
    },
    {
      "cell_type": "code",
      "execution_count": null,
      "metadata": {
        "colab": {
          "base_uri": "https://localhost:8080/"
        },
        "id": "ob3wLInjODxu",
        "outputId": "1ef410b7-6e8a-427a-fb0b-77051f96cdf3"
      },
      "outputs": [
        {
          "name": "stdout",
          "output_type": "stream",
          "text": [
            "Enter Query: how many orders have been delivered\n",
            "Based on the provided data, there are 4 orders that have been delivered.\n"
          ]
        }
      ],
      "source": [
        "# Prompt the model using the documents\n",
        "data = json_to_sent(orders)\n",
        "prompt = input(\"Enter Query: \")\n",
        "response = gpt(data, prompt)\n",
        "print(response)"
      ]
    }
  ],
  "metadata": {
    "colab": {
      "provenance": []
    },
    "kernelspec": {
      "display_name": "Python 3",
      "name": "python3"
    },
    "language_info": {
      "name": "python"
    }
  },
  "nbformat": 4,
  "nbformat_minor": 0
}
